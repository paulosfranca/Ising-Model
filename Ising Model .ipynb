{
 "cells": [
  {
   "cell_type": "code",
   "execution_count": 1,
   "metadata": {},
   "outputs": [],
   "source": [
    "import numpy as np\n",
    "import collections\n",
    "import matplotlib.pylab as plt"
   ]
  },
  {
   "cell_type": "code",
   "execution_count": 4,
   "metadata": {},
   "outputs": [],
   "source": [
    "import numpy as np\n",
    "import pylab as pl\n",
    "\n",
    "def calcular_vizinhos():\n",
    "\tfor i in range(L):\n",
    "\t\tfor j in range(L):\n",
    "\t\t\t# Vizinhança norte-sul\n",
    "                        # Vizinhos da primeira linha\n",
    "\t\t\tif i == 0:\n",
    "\t\t\t\t# vizinho norte (contorno)\n",
    "\t\t\t\tV[i * L + j].append((L - 1) * L + j)  #(L - 1) ultima linha (ultimo seguimento de S) \n",
    "\t\t\t\t# vizinho sul (padrão)\n",
    "\t\t\t\tV[i * L + j].append((i + 1) * L + j)  #(i+1) vai pra linha seguinte\n",
    "\t\t\t# vizinhos da ultima linha\n",
    "\t\t\telif i == L - 1:\n",
    "\t\t\t\t# vizinho norte\n",
    "\t\t\t\tV[i * L + j].append((i - 1) * L + j)\n",
    "\t\t\t\t# vizinho sul (contorno)\n",
    "\t\t\t\tV[i * L + j].append(0 * L + j) \n",
    "\t\t\t# vizinho norte-sul (padrão)\n",
    "\t\t\telse:\n",
    "\t\t\t\t# vizinho norte\n",
    "\t\t\t\tV[i * L + j].append((i - 1) * L + j)\n",
    "\t\t\t\t# vizinho sul\n",
    "\t\t\t\tV[i * L + j].append((i + 1) * L + j)\n",
    "\n",
    "\n",
    "\n",
    "\t\t\t# vizinhança leste-oeste\n",
    "                        # Vizinhos da ultima coluna\n",
    "\t\t\tif j == L - 1:\n",
    "                                # Vizinho leste (contorno)\n",
    "\t\t\t\tV[i * L + j].append(i * L + 0) # 0 é a primeira coluna\n",
    "\t\t\t\t# Vizinho oste (padrão)\n",
    "\t\t\t\tV[i * L + j].append(i * L + j - 1) #(j-1) coluna da esquerda\n",
    "\t\t\t# Vizinhos da primeira coluna\n",
    "\t\t\telif j == 0:\n",
    "                                #Vizinho oeste (contorno)\n",
    "\t\t\t\tV[i * L + j].append(i * L + (L - 1)) #(L-1) Ultima coluna\n",
    "\t\t\t\t# Vizinho leste (padrao)\n",
    "\t\t\t\tV[i * L + j].append(i * L + j + 1) # (j+1) coluna da direita\n",
    "\t\t\t# vizinho leste-oeste\n",
    "\t\t\telse:\n",
    "\t\t\t\t# vizinho leste (padrão)\n",
    "\t\t\t\tV[i * L + j].append(i * L + j + 1)\n",
    "\t\t\t\t# vizinho oeste (padrão)\n",
    "\t\t\t\tV[i * L + j].append(i * L + j - 1)\n",
    "\n",
    "def flipar(um_spin):\n",
    "    soma_vizinhanca = 0.\n",
    "    for spin_vizinho in V[um_spin]:\n",
    "        soma_vizinhanca += S[spin_vizinho]\n",
    "    delta_energia = 2.0 * S[um_spin] * soma_vizinhanca    \n",
    "    if delta_energia <= 0 or np.random.rand() < np.exp(-delta_energia / T):\n",
    "        S[um_spin] *= -1\n",
    "    \n",
    "def setup(parametro_L, parametro_MCS, parametro_Maioria):\n",
    "    # modo de referencia = S[linha * L + coluna]\n",
    "    global S # rede com estrutura de dados linear\n",
    "    global V # lista de vizinhos\n",
    "    global L # Lado\n",
    "    global MCS_steps #monte carlo steps\n",
    "    L = parametro_L\n",
    "    MCS_steps = parametro_MCS\n",
    "    # rede com estrutura de dados linear\n",
    "    S = np.random.random_integers(10, 13, size = L * L) # rede com estrutura de dados linear\n",
    "    \"\"\"\n",
    "    abaixo estou criando diferentes cenários iniciais (como em Solé),\n",
    "    fazendo um cenário 75% dos spin pra cima e depois 75% dos spins\n",
    "    para baixo. Isso é feito em função do parametro_maioria, que define\n",
    "    o indice da lista anterior \n",
    "    \"\"\"\n",
    "    S[S == 10] = [-1, 1, -1][parametro_Maioria]\n",
    "    S[S == 11] = [-1, 1, -1][parametro_Maioria]\n",
    "    S[S == 12] = [1, 1, -1][parametro_Maioria]\n",
    "    S[S == 13] = [1, -1, 1][parametro_Maioria]\n",
    "    V = [[] for i in range(L * L) ] # lista de vizinhos, cada spin tem inicialmente zero vizinhos\n",
    "    calcular_vizinhos()\n",
    "\n",
    "def run(parametro_T):\n",
    "    global T\n",
    "    T = parametro_T\n",
    "    data_M_mean = []\n",
    "    for i in range(MCS_steps):\n",
    "        step()\n",
    "        data_M_mean.append(np.mean(S))\n",
    "    return data_M_mean\n",
    "\n",
    "def step():\n",
    "    MC_spins = np.random.randint(L * L, size = L * L) # sortear MCS spins\n",
    "    for spin in MC_spins:\n",
    "        flipar(spin)\n",
    "\n",
    "def plot_random_walk():\n",
    "    pl.plot(data_random_walk)\n",
    "    pl.show()"
   ]
  },
  {
   "cell_type": "code",
   "execution_count": 5,
   "metadata": {},
   "outputs": [
    {
     "name": "stderr",
     "output_type": "stream",
     "text": [
      "/home/franca/anaconda2/lib/python2.7/site-packages/ipykernel_launcher.py:66: DeprecationWarning: This function is deprecated. Please call randint(10, 13 + 1) instead\n"
     ]
    },
    {
     "data": {
      "image/png": "[encoded data removed]",
      "text/plain": [
       "<matplotlib.figure.Figure at 0x7fa503927510>"
      ]
     },
     "metadata": {},
     "output_type": "display_data"
    }
   ],
   "source": [
    "T_parameters = np.arange(0.1, 4.1, 0.1)\n",
    "for maioria in [-1, 1]:   #loop para os diferentes condições iniciais\n",
    "    data_simulations = [] #Lista que guardará a magnetização dos 5 ultimos períodos\n",
    "    for t in T_parameters:#loop para diferentes temperaduras\n",
    "        setup(parametro_L = 100, parametro_MCS = 50, parametro_Maioria = maioria)\n",
    "        data = run(parametro_T = t)\n",
    "        run_mean = np.mean(data[-5:])\n",
    "        data_simulations.append(run_mean)\n",
    "    pl.plot(T_parameters, data_simulations, [\"\", \"r\", \"b\"][maioria] + \"o\")\n",
    "pl.show()"
   ]
  },
  {
   "cell_type": "code",
   "execution_count": null,
   "metadata": {},
   "outputs": [],
   "source": []
  }
 ],
 "metadata": {
  "kernelspec": {
   "display_name": "Python 2",
   "language": "python",
   "name": "python2"
  },
  "language_info": {
   "codemirror_mode": {
    "name": "ipython",
    "version": 2
   },
   "file_extension": ".py",
   "mimetype": "text/x-python",
   "name": "python",
   "nbconvert_exporter": "python",
   "pygments_lexer": "ipython2",
   "version": "2.7.14"
  }
 },
 "nbformat": 4,
 "nbformat_minor": 2
}
